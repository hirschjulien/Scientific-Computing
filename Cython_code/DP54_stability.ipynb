{
 "cells": [
  {
   "cell_type": "code",
   "execution_count": 1,
   "metadata": {},
   "outputs": [],
   "source": [
    "from DP54 import DP54_solver\n",
    "import numpy as np\n",
    "import matplotlib.pyplot as plt\n",
    "from scipy.integrate import solve_ivp\n",
    "import time\n",
    "from matplotlib.gridspec import GridSpec\n",
    "import numba\n",
    "import numpy as np\n",
    "from mpl_toolkits.mplot3d import Axes3D\n",
    "from matplotlib import cm\n",
    "import numpy.ma as ma"
   ]
  },
  {
   "cell_type": "code",
   "execution_count": 2,
   "metadata": {},
   "outputs": [],
   "source": [
    "plt.style.use('seaborn-v0_8-whitegrid')  \n",
    "plt.rcParams['font.family'] = 'Times New Roman'\n",
    "plt.rcParams['font.size'] = 13\n",
    "plt.rcParams['axes.linewidth'] = 1.5\n",
    "plt.rcParams['axes.unicode_minus'] = False\n",
    "plt.rcParams['xtick.direction'] = 'in'\n",
    "plt.rcParams['ytick.direction'] = 'in'\n",
    "plt.rcParams['xtick.major.size'] = 6\n",
    "plt.rcParams['xtick.major.width'] = 1.5\n",
    "plt.rcParams['ytick.major.size'] = 6\n",
    "plt.rcParams['ytick.major.width'] = 1.5\n",
    "plt.rcParams['axes.labelsize'] = 16\n",
    "plt.rcParams['legend.fontsize'] = 18\n",
    "plt.rcParams['legend.fontsize'] = 13"
   ]
  },
  {
   "cell_type": "code",
   "execution_count": null,
   "metadata": {},
   "outputs": [],
   "source": [
    "real_range = np.linspace(-5.0, 2.0, 1000)  # Re range\n",
    "imag_range = np.linspace(-5.0, 5.0, 1000)  # Im range\n",
    "real_grid, imag_grid = np.meshgrid(real_range, imag_range)\n",
    "\n",
    "amplification_factors = np.zeros_like(real_grid)\n",
    "\n",
    "t_range = np.array((0.0, 1e0 ))  # range of time\n",
    "h_size = np.array((1e0, 1e0))  # the maximun and minimun step(initial, the algorithm will refresh)\n",
    "x0 = np.array((1.0, 0.0, 0.0)) ### initial value, if the variable is less than three, just set the later as 0, make sure the array is have 3 variable.\n",
    "reps = 1e-2\n",
    "aeps = 1e-3\n",
    "model = 7  # model 7 is stability test\n",
    "MAX_STEPS = int(50000)  ### most of iteration are 1 step, so MAX_STEP should be 1+1 = 2, but there have a bug, only if MAX_STEPS is a large number can run successfuly\n",
    "\n",
    "for i in range(len(real_range)):\n",
    "    for j in range(len(imag_range)):\n",
    "        argv = np.array((real_range[i], imag_range[j]))      \n",
    "        # use DP54 solver\n",
    "        t_history, x_history, t_adaptive_size, t_adaptive = DP54_solver(\n",
    "            x0, argv, t_range, h_size, reps, aeps, model, MAX_STEPS) \n",
    "        # |y_new|/|y_initial|\n",
    "        y_new_magnitude = np.sqrt(x_history[-1, 0]**2 + x_history[-1, 1]**2)\n",
    "        y_initial_magnitude = np.sqrt(x0[0]**2 + x0[1]**2)  \n",
    "        amplification_factors[j, i] = y_new_magnitude / y_initial_magnitude"
   ]
  },
  {
   "cell_type": "code",
   "execution_count": null,
   "metadata": {},
   "outputs": [],
   "source": [
    "fig, pic1 = plt.subplots(figsize=(8, 6))\n",
    "plt.style.use('seaborn-v0_8-whitegrid') \n",
    "clipped_factors = np.minimum(amplification_factors, 2.0)\n",
    "mask = amplification_factors > 1.0  \n",
    "masked_data = ma.masked_array(amplification_factors, mask=mask)\n",
    "mesh = plt.pcolormesh(real_grid, imag_grid, masked_data, cmap=\"bone_r\", vmin=0, vmax=1)\n",
    "\n",
    "pic1.axhline(y=0, color='k', linestyle='-', alpha=0.3)\n",
    "pic1.axvline(x=0, color='k', linestyle='-', alpha=0.3)\n",
    "pic1.set_title('Stability plot for DP54 Method', fontsize=20, fontweight='bold', color='#333333', y=0.98)\n",
    "pic1.set_xlabel('Re(z)', fontsize=12)\n",
    "pic1.set_ylabel('Im(z)', fontsize=12)\n",
    "pic1.grid(True, alpha=0.3)\n",
    "pic1.set_facecolor('#f9f9f9')\n",
    "cbar = plt.colorbar(mesh, label='R(z)')\n",
    "plt.tight_layout()\n",
    "plt.savefig(\"DP54_stability.png\")\n",
    "plt.show()"
   ]
  }
 ],
 "metadata": {
  "kernelspec": {
   "display_name": "base",
   "language": "python",
   "name": "python3"
  },
  "language_info": {
   "codemirror_mode": {
    "name": "ipython",
    "version": 3
   },
   "file_extension": ".py",
   "mimetype": "text/x-python",
   "name": "python",
   "nbconvert_exporter": "python",
   "pygments_lexer": "ipython3",
   "version": "3.12.7"
  }
 },
 "nbformat": 4,
 "nbformat_minor": 2
}
